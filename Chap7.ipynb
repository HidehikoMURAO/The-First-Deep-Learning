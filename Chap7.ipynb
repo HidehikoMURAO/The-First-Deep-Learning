{
 "cells": [
  {
   "cell_type": "markdown",
   "metadata": {},
   "source": [
    "## 7 畳み込みニューラルネットワーク（CNN）"
   ]
  },
  {
   "cell_type": "markdown",
   "metadata": {},
   "source": [
    "## 7.2 im2colとcol2im"
   ]
  },
  {
   "cell_type": "markdown",
   "metadata": {},
   "source": [
    "### 7.2.3 im2colの実装 -シンプルなim2col-"
   ]
  },
  {
   "cell_type": "code",
   "execution_count": 1,
   "metadata": {},
   "outputs": [],
   "source": [
    "import warnings\n",
    "warnings.filterwarnings('ignore')\n",
    "\n",
    "%matplotlib inline"
   ]
  },
  {
   "cell_type": "code",
   "execution_count": 2,
   "metadata": {},
   "outputs": [],
   "source": [
    "import numpy as np\n",
    "\n",
    "def im2col(image, flt_h, flt_w, out_h, out_w): #1\n",
    "    \n",
    "    img_h, img_w = image.shape # 入力画像の高さ、幅\n",
    "    \n",
    "    # 生成される行列のサイズ\n",
    "    cols = np.zeros((flt_h * flt_w, out_h * out_w))\n",
    "    \n",
    "    for h in range(out_h): \n",
    "        h_lim = h + flt_h\n",
    "        for w in range(out_w):\n",
    "            w_lim = w + flt_w\n",
    "            cols[:, h * out_w + w] = image[h:h_lim, w:w_lim].reshape(-1)\n",
    "            \n",
    "    return cols"
   ]
  },
  {
   "cell_type": "code",
   "execution_count": 3,
   "metadata": {},
   "outputs": [
    {
     "name": "stdout",
     "output_type": "stream",
     "text": [
      "[[ 1.  2.  3.  5.  6.  7.  9. 10. 11.]\n",
      " [ 2.  3.  4.  6.  7.  8. 10. 11. 12.]\n",
      " [ 5.  6.  7.  9. 10. 11. 13. 14. 15.]\n",
      " [ 6.  7.  8. 10. 11. 12. 14. 15. 16.]]\n"
     ]
    }
   ],
   "source": [
    "img = np.array([[1, 2, 3, 4], \n",
    "                [5, 6, 7, 8], \n",
    "                [9, 10, 11, 12], \n",
    "                [13, 14, 15, 16]])\n",
    "cols = im2col(img, 2, 2, 3, 3)\n",
    "print(cols)"
   ]
  },
  {
   "cell_type": "code",
   "execution_count": 4,
   "metadata": {},
   "outputs": [],
   "source": [
    "import numpy as np\n",
    "\n",
    "def im2col(image, flt_h, flt_w, out_h, out_w):\n",
    "    \n",
    "    img_h, img_w = image.shape # 入力画像の高さ、幅\n",
    "    \n",
    "    # 生成される行列のサイズ\n",
    "    cols = np.zeros((flt_h, flt_w, out_h, out_w))\n",
    "    \n",
    "    for h in range(flt_h): \n",
    "        h_lim = h + out_h\n",
    "        for w in range(flt_w):\n",
    "            w_lim = w + out_w\n",
    "            cols[h, w, :, :] = image[h:h_lim, w:w_lim]\n",
    "    \n",
    "    cols = cols.reshape(flt_h*flt_w, out_h*out_w)\n",
    "            \n",
    "    return cols"
   ]
  },
  {
   "cell_type": "code",
   "execution_count": 5,
   "metadata": {},
   "outputs": [
    {
     "name": "stdout",
     "output_type": "stream",
     "text": [
      "[[ 1.  2.  3.  5.  6.  7.  9. 10. 11.]\n",
      " [ 2.  3.  4.  6.  7.  8. 10. 11. 12.]\n",
      " [ 5.  6.  7.  9. 10. 11. 13. 14. 15.]\n",
      " [ 6.  7.  8. 10. 11. 12. 14. 15. 16.]]\n"
     ]
    }
   ],
   "source": [
    "img = np.array([[1, 2, 3, 4], \n",
    "                [5, 6, 7, 8], \n",
    "                [9, 10, 11, 12], \n",
    "                [13, 14, 15, 16]])\n",
    "cols = im2col(img, 2, 2, 3, 3)\n",
    "print(cols)"
   ]
  },
  {
   "cell_type": "markdown",
   "metadata": {},
   "source": [
    "### 7.2.4 im2colの実装 -im2colの実用化"
   ]
  },
  {
   "cell_type": "code",
   "execution_count": 6,
   "metadata": {},
   "outputs": [],
   "source": [
    "# バッチとチャンネルに対応\n",
    "def im2col(images, flt_h, flt_w, out_h, out_w):\n",
    "   \n",
    "    n_bt, n_ch, img_h, img_w = images.shape # バッチサイズ、チャンネル数、入力画像高さ、幅\n",
    "    \n",
    "    cols = np.zeros((n_bt, n_ch, flt_h, flt_w, out_h, out_w))\n",
    "\n",
    "    for h in range(flt_h):\n",
    "        h_lim = h + out_h\n",
    "        for w in range(flt_w):\n",
    "            w_lim = w + out_w\n",
    "            cols[:, :, h, w, :, :] = images[:, :, h:h_lim, w:w_lim]\n",
    "\n",
    "    cols = cols.transpose(1, 2, 3, 0, 4, 5).reshape(n_ch*flt_h*flt_w, n_bt*out_h*out_w)\n",
    "    return cols"
   ]
  },
  {
   "cell_type": "code",
   "execution_count": 7,
   "metadata": {},
   "outputs": [],
   "source": [
    "img = np.array([[[[1, 2, 3, 4],\n",
    "                  [5, 6, 7, 8],\n",
    "                  [9, 10,11,12],\n",
    "                  [13,14,15,16]]]])\n",
    "cols = im2col(img, 2, 2, 3, 3)\n"
   ]
  },
  {
   "cell_type": "markdown",
   "metadata": {},
   "source": [
    "バッチとチャンネルに対応しパディングとストライドを考慮したim2col"
   ]
  },
  {
   "cell_type": "code",
   "execution_count": 8,
   "metadata": {},
   "outputs": [],
   "source": [
    "# coding: UTF-8\n",
    "#---+--10|----+--20|----+--30|----+--40|----+--50|----+--60|----+--70|----+--80|\n",
    "def im2col(images, flt_h, flt_w, out_h, out_w, stride, pad):\n",
    "   \n",
    "    n_bt, n_ch, img_h, img_w = images.shape\n",
    "    \n",
    "    img_pad = np.pad(images, [(0,0), (0,0), (pad, pad), (pad, pad)], \"constant\")\n",
    "    cols = np.zeros((n_bt, n_ch, flt_h, flt_w, out_h, out_w))\n",
    "\n",
    "    for h in range(flt_h):\n",
    "        h_lim = h + stride*out_h\n",
    "        for w in range(flt_w):\n",
    "            w_lim = w + stride*out_w\n",
    "            cols[:, :, h, w, :, :] = img_pad[:, :, h:h_lim:stride, w:w_lim:stride]\n",
    "\n",
    "    cols = cols.transpose(1, 2, 3, 0, 4, 5).reshape(n_ch*flt_h*flt_w, n_bt*out_h*out_w)\n",
    "    return cols\n",
    "\n",
    "#---+--10|----+--20|----+--30|----+--40|----+--50|----+--60|----+--70|----+--80|\n",
    "#1 image:入力画像，\n",
    "#  flt_h:フィルタの高さ，flt_w:フィルタの幅, out_h:出力画像の高さ, out_w:出力画像の幅"
   ]
  },
  {
   "cell_type": "code",
   "execution_count": 9,
   "metadata": {},
   "outputs": [
    {
     "name": "stdout",
     "output_type": "stream",
     "text": [
      "[[ 1.  2.  3.  5.  6.  7.  9. 10. 11.]\n",
      " [ 2.  3.  4.  6.  7.  8. 10. 11. 12.]\n",
      " [ 5.  6.  7.  9. 10. 11. 13. 14. 15.]\n",
      " [ 6.  7.  8. 10. 11. 12. 14. 15. 16.]]\n"
     ]
    }
   ],
   "source": [
    "img = np.array([[[[1, 2, 3, 4],\n",
    "                  [5, 6, 7, 8],\n",
    "                  [9, 10,11,12],\n",
    "                  [13,14,15,16]]]])\n",
    "cols = im2col(img, 2, 2, 3, 3, 1, 0)\n",
    "print(cols)"
   ]
  },
  {
   "cell_type": "markdown",
   "metadata": {},
   "source": [
    "### 7.2.6 col2im の実装"
   ]
  },
  {
   "cell_type": "code",
   "execution_count": 10,
   "metadata": {},
   "outputs": [],
   "source": [
    "# coding: UTF-8\n",
    "#---+--10|----+--20|----+--30|----+--40|----+--50|----+--60|----+--70|----+--80|\n",
    "def col2im(cols, img_shape, flt_h, flt_w, out_h, out_w, stride, pad):\n",
    " \n",
    "    n_bt, n_ch, img_h, img_w = img_shape\n",
    "    \n",
    "    # 6次元配列に分解して軸を入れ替えて，配列形状は (B, C, Fh, Fw, Oh, Ow) となる．\n",
    "    cols = cols.reshape(n_ch, flt_h, flt_w, n_bt, \n",
    "                        out_h, out_w).transpose(3, 0, 1, 2, 4, 5) \n",
    "    \n",
    "    # 変換後の画像を格納する4次元配列の作成\n",
    "    images = np.zeros((n_bt, n_ch, img_h + 2*pad + stride - 1,\n",
    "                       img_w + 2 * pad + stride -1)) \n",
    "    # stride-1を加えるのは画像がストライドの値で割り切れない場合の対策\n",
    "    \n",
    "    for h in range(flt_h):\n",
    "        h_lim = h + stride*out_h\n",
    "        for w in range(flt_w):\n",
    "            w_lim = w + stride*out_w\n",
    "            images[:, :, h:h_lim:stride, w:w_lim:stride] += cols[:, :, h, w, :, :]\n",
    "            # imagesにcolsにおけるフィルタの該当箇所を格納する\n",
    "\n",
    "    return images[:, :, pad:img_h+pad, pad:img_w+pad]\n",
    "            # パディングの分をスライスによって取り除いている\n",
    "\n",
    "#---+--10|----+--20|----+--30|----+--40|----+--50|----+--60|----+--70|----+--80|\n",
    "#1 cols:引数として受け取る行列\n",
    "#  受け取るcolsの形状は (n_ch * flt_h * flt_w, n_bt * out_h * ouy_w)\n",
    "#  n_ch:チャンネル数，n_bt:バッチサイズ数,"
   ]
  },
  {
   "cell_type": "code",
   "execution_count": 11,
   "metadata": {},
   "outputs": [
    {
     "name": "stdout",
     "output_type": "stream",
     "text": [
      "[[[[1. 2. 1.]\n",
      "   [2. 4. 2.]\n",
      "   [1. 2. 1.]]]]\n"
     ]
    }
   ],
   "source": [
    "cols = np.ones((4, 4))\n",
    "img_shape = (1, 1, 3, 3)\n",
    "images = col2im(cols, img_shape, 2, 2, 2, 2, 1, 0)\n",
    "print(images)"
   ]
  },
  {
   "cell_type": "markdown",
   "metadata": {},
   "source": [
    "## 7.3 畳み込み層の実装"
   ]
  },
  {
   "cell_type": "markdown",
   "metadata": {},
   "source": [
    "### 7.3.1 実装の概要"
   ]
  },
  {
   "cell_type": "code",
   "execution_count": 12,
   "metadata": {},
   "outputs": [],
   "source": [
    "class ConvLayer: \n",
    "    \n",
    "    # x_ch: 入力チャンネル数, x_h: 入力画像高さ, x_w: 入力画像幅\n",
    "    # n_fit: フィルタ数, flt_h: フィルタ高さ, flt_w: フィルタ幅\n",
    "    # stride: ストライド幅, pad: パディング幅\n",
    "    \n",
    "    def __init__(self, x_ch, x_h, x_w, n_flt, flt_h, flt_w, \n",
    "                 stride, pad):\n",
    "        \n",
    "        # パラメータをまとめる\n",
    "        self.params = (x_ch, x_h, x_w, n_flt, flt_h, flt_w, \n",
    "                       stride, pad)\n",
    "        \n",
    "        # フィルタとバイアスの初期値\n",
    "        self.w = wb_width * np.random.randn(n_flt, x_ch, flt_h, flt_w)\n",
    "        self.b = wb_width * np.random.randn(1, n_flt)\n",
    "        \n",
    "        # 出力画像のサイズ\n",
    "        self.y_ch = n_flt # 出力チャンネル数\n",
    "        self.y_n = (x_h - flt_h + 2*pad) // stride + 1 # 出力高さ, //: 切り捨て除算\n",
    "        self.y_w = (x_w - flt_w + 2*pad) // stride + 1 # 出力幅"
   ]
  },
  {
   "cell_type": "markdown",
   "metadata": {},
   "source": [
    "### 7.3.2 順伝播"
   ]
  },
  {
   "cell_type": "code",
   "execution_count": 13,
   "metadata": {},
   "outputs": [],
   "source": [
    "    def forward(self, x): \n",
    "        n_bt = x.shape[0]\n",
    "        x_ch, x_h, x_w, n_flt, flt_h, flt_w, stride, pad = self.params\n",
    "        y_ch, y_h, y_w = self.y_ch, self.y_ch, self.y_w\n",
    "        \n",
    "        # 入力画像とフィルタを行列に変換\n",
    "        self.cols = im2col(x, flt_h, flt_w, y_h, y_w, stride, pad)\n",
    "        self.w_col = self.w.reshape(n_flt, x_ch*flt_h*flt_w)\n",
    "        \n",
    "        # 出力の計算\n",
    "        u = np.dot(self.w_col, self.cols).T + self.b\n",
    "        self.u = u.reshape(n_bt, y_h, y_w, y_ch).transpose(0, 3, 1, 2)\n",
    "        self.y = np.where(self.u <= 0, 0, self.u)"
   ]
  },
  {
   "cell_type": "markdown",
   "metadata": {},
   "source": [
    "### 7.3.3 逆伝播"
   ]
  },
  {
   "cell_type": "code",
   "execution_count": 14,
   "metadata": {},
   "outputs": [],
   "source": [
    "    def backward(self, grad_y): \n",
    "        n_bt = grad_y.shape[0]\n",
    "        x_ch, x_h, x_w, n_flt, flt_h, flt_w, stride, pad =self.params\n",
    "        y_ch, y_h, y_w = self.y_ch, self.y_h, self.y_w\n",
    "        \n",
    "        # delta\n",
    "        delta = grad_y * np.where(self.u <= 0, 0, 1)\n",
    "        delta = delta.transpose(0, 2, 3, 1).reshape(n_bt*y_h*y_w, y_ch)\n",
    "        \n",
    "        # フィルタとバイアスの勾配\n",
    "        grad_w = np.dot(self.cols, delta)\n",
    "        self.grad_w = grad_w.T.reshape(n_flt, x_ch, flt_h, flt_w)\n",
    "        self.grad_b = np.sum(delta, axis=0)\n",
    "        \n",
    "        # 入力の勾配\n",
    "        grad_cols = np.dot(delta, self.w_col)\n",
    "        x_shape = (n_bt, x_ch, x_h, x_w)\n",
    "        self.grad_x = col2im(grad_cols.T, x_shape, flt_h, \n",
    "                            flt_w, y_h, y_w, stride, pad)"
   ]
  },
  {
   "cell_type": "markdown",
   "metadata": {},
   "source": [
    "## 7.4 プーリング層の実装"
   ]
  },
  {
   "cell_type": "markdown",
   "metadata": {},
   "source": [
    "### 7.4.1 プーリング層の概要"
   ]
  },
  {
   "cell_type": "code",
   "execution_count": 15,
   "metadata": {},
   "outputs": [],
   "source": [
    "class PoolingLayer: \n",
    "    \n",
    "    # x_ch: 入力チャンネル数, x_h: 入力画像高さ, x_w: 入力画像幅\n",
    "    # ppol: プーリング領域のサイズ, pad: パディング幅\n",
    "    \n",
    "    def __init__(self, x_ch, x_h, x_w, pool, pad): \n",
    "        \n",
    "        # パラメータをまとめる\n",
    "        self.params = (x_ch, x_h, x_w, pool, pad)\n",
    "        \n",
    "        self.y_ch = x_ch # 出力チャンネル数\n",
    "        self.y_h = x_h // pool if x_h % pool == 0 else x_h // pool + 1 # 出力高さ\n",
    "        self.y_w = x_w // pool if x_w % pool == 0 else x_w // pool + 1 # 出力幅\n",
    "        "
   ]
  },
  {
   "cell_type": "markdown",
   "metadata": {},
   "source": [
    "### 7.4.2 順伝播"
   ]
  },
  {
   "cell_type": "code",
   "execution_count": 16,
   "metadata": {},
   "outputs": [],
   "source": [
    "def forward (self, x): \n",
    "    n_bt = x.shape[0]\n",
    "    x_ch, x_h, x_w, pool, pad = self.params\n",
    "    y_ch, y_h, y_w = self.y_ch, self.y_h, self.y_w\n",
    "    \n",
    "    # 入力画像を行列に変換\n",
    "    cols = im2col(x, pool, pool, y_h, pool, pad)\n",
    "    cols = cols.T.reshape(n_bt * y_h * y_w * x_ch, pool * pool)\n",
    "    \n",
    "    # 出力の計算: Maxプーリング\n",
    "    y = np.max(cols, axis = 1)\n",
    "    self.y = y.reshape(n_bt, y_h, y_w, x_ch).transpose(0, 3, 1, 2)\n",
    "    \n",
    "    # 最大値のインデックスを保存\n",
    "    self.max_index = np.argmax(cols, axis = 1)"
   ]
  },
  {
   "cell_type": "markdown",
   "metadata": {},
   "source": [
    "### 7.4.3 逆伝播"
   ]
  },
  {
   "cell_type": "code",
   "execution_count": 17,
   "metadata": {},
   "outputs": [],
   "source": [
    "def backward(self, grad_y): \n",
    "    n_bt = grad_y.shape[0]\n",
    "    x_ch, x_h, x_w, pool, pad = self.params\n",
    "    y_ch, y_h, y_w = self.y_ch, self.y_h, self.y_w\n",
    "    \n",
    "    # 出力の勾配の値を入れ替え\n",
    "    grad_y = grad_y.transpose(0, 2, 3, 1)\n",
    "    \n",
    "    # 行列を作成\n",
    "    grad_cols = np.zeros((pool * pool, grad_y.size))\n",
    "    \n",
    "    # 各列の最大値であった要素にのみ出力の勾配を入れる\n",
    "    grad_cols[self.max_index.reshape(-1), \n",
    "              np.arange(grad_y.size)] = grad_y.reshape(-1)\n",
    "    grad_cols = grad_cols.reshape(pool, pool, n_bt, y_h, y_w, y_ch)\n",
    "    grad_cols = grad_cols.transpose(5, 0, 1, 2, 3, 4)\n",
    "    grad_cols = grad_cols.reshape(y_ch * pool * pool, n_bt * y_h * y_w)\n",
    "    \n",
    "    # 入力の勾配\n",
    "    x_shape = (n_bt, x_ch, x_h, x_w)\n",
    "    self.grad_x = col2im(grad_cols, x_shape, pool, pool, y_h, y_w, pool, pad)"
   ]
  }
 ],
 "metadata": {
  "@webio": {
   "lastCommId": null,
   "lastKernelId": null
  },
  "kernelspec": {
   "display_name": "Python 3",
   "language": "python",
   "name": "python3"
  },
  "language_info": {
   "codemirror_mode": {
    "name": "ipython",
    "version": 3
   },
   "file_extension": ".py",
   "mimetype": "text/x-python",
   "name": "python",
   "nbconvert_exporter": "python",
   "pygments_lexer": "ipython3",
   "version": "3.6.8"
  }
 },
 "nbformat": 4,
 "nbformat_minor": 2
}
